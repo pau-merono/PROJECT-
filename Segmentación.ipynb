{
 "cells": [
  {
   "cell_type": "markdown",
   "metadata": {},
   "source": [
    "# Análisis y Modelado de Datos de Fertilidad\n",
    "Este notebook realiza un análisis exploratorio y modelado predictivo basado en un conjunto de datos sobre diagnósticos de fertilidad. A lo largo de este trabajo, exploraremos los datos, generaremos visualizaciones y entrenaremos un modelo de clasificación."
   ]
  },
  {
   "cell_type": "markdown",
   "metadata": {},
   "source": [
    "## Instalación de Librerías\n",
    "Primero, nos aseguramos de que todas las librerías necesarias estén instaladas."
   ]
  },
  {
   "cell_type": "code",
   "execution_count": null,
   "id": "installation",
   "metadata": {},
   "outputs": [],
   "source": [
    "# Ejecuta esto en tu entorno si las librerías no están instaladas.\n",
    "# !pip install pandas numpy matplotlib seaborn scikit-learn"
   ]
  },
  {
   "cell_type": "markdown",
   "metadata": {},
   "source": [
    "## Importación de Librerías\n",
    "A continuación, importamos las librerías necesarias para el análisis, la visualización y el modelado de datos."
   ]
  },
  {
   "cell_type": "code",
   "execution_count": null,
   "id": "import-libraries",
   "metadata": {},
   "outputs": [],
   "source": [
    "import pandas as pd\n",
    "import numpy as np\n",
    "import matplotlib.pyplot as plt\n",
    "import seaborn as sns\n",
    "from sklearn.model_selection import train_test_split\n",
    "from sklearn.preprocessing import StandardScaler\n",
    "from sklearn.ensemble import RandomForestClassifier\n",
    "from sklearn.metrics import classification_report, confusion_matrix\n",
    "\n",
    "print(\"¡Todas las librerías se importaron correctamente!\")"
   ]
  },
  {
   "cell_type": "markdown",
   "metadata": {},
   "source": [
    "## Configuración del Entorno\n",
    "Se configuran estilos y parámetros para mejorar la visualización de los gráficos."
   ]
  },
  {
   "cell_type": "code",
   "execution_count": null,
   "id": "initial-setup",
   "metadata": {},
   "outputs": [],
   "source": [
    "import warnings\n",
    "warnings.filterwarnings('ignore')\n",
    "\n",
    "# Configurar el estilo de las gráficas\n",
    "plt.style.use('seaborn')\n",
    "sns.set_palette(\"husl\")"
   ]
  },
  {
   "cell_type": "markdown",
   "metadata": {},
   "source": [
    "## Carga y Preparación de Datos\n",
    "Leemos el conjunto de datos y realizamos un mapeo para interpretar mejor las variables."
   ]
  },
  {
   "cell_type": "code",
   "execution_count": null,
   "id": "data-preparation",
   "metadata": {},
   "outputs": [],
   "source": [
    "# Cargar los datos\n",
    "df = pd.read_csv('fertility_Diagnosis.csv', sep=';')\n",
    "\n",
    "# Mapear las estaciones a valores más interpretables\n",
    "season_map = {-1: 'Invierno', -0.33: 'Primavera', 0.33: 'Verano', 1: 'Otoño'}\n",
    "df['Season_Name'] = df['Season'].map(season_map)\n",
    "\n",
    "# Mostrar las primeras filas y la información del dataset\n",
    "print(\"Primeras filas del dataset:\")\n",
    "print(df.head())\n",
    "print(\"\\nInformación del dataset:\")\n",
    "df.info()"
   ]
  },
  {
   "cell_type": "markdown",
   "metadata": {},
   "source": [
    "## Análisis Exploratorio de Datos (EDA)\n",
    "Exploramos las relaciones entre las variables mediante gráficos y estadísticas descriptivas."
   ]
  },
  {
   "cell_type": "markdown",
   "metadata": {},
   "source": [
    "### Distribución de Diagnósticos por Estación\n",
    "Se genera un gráfico de barras apiladas para mostrar cómo se distribuyen los diagnósticos según la estación."
   ]
  },
  {
   "cell_type": "code",
   "execution_count": null,
   "id": "eda-first-plot",
   "metadata": {},
   "outputs": [],
   "source": [
    "plt.figure(figsize=(12, 6))\n",
    "diagnosis_by_season = pd.crosstab(df['Season_Name'], df['Diagnosis'], normalize='index') * 100\n",
    "diagnosis_by_season.plot(kind='bar', stacked=True)\n",
    "plt.title('Distribución de Diagnósticos por Estación')\n",
    "plt.xlabel('Estación')\n",
    "plt.ylabel('Porcentaje')\n",
    "plt.legend(title='Diagnóstico', bbox_to_anchor=(1.05, 1))\n",
    "plt.tight_layout()\n",
    "plt.show()"
   ]
  },
  {
   "cell_type": "markdown",
   "metadata": {},
   "source": [
    "### Relación entre Edad y Horas Sentado por Diagnóstico\n",
    "Un gráfico de dispersión para analizar posibles correlaciones."
   ]
  },
  {
   "cell_type": "code",
   "execution_count": null,
   "id": "eda-second-plot",
   "metadata": {},
   "outputs": [],
   "source": [
    "plt.figure(figsize=(10, 6))\n",
    "for diagnosis in df['Diagnosis'].unique():\n",
    "    mask = df['Diagnosis'] == diagnosis\n",
    "    plt.scatter(df[mask]['Age'], df[mask]['Sitting_hours'], \n",
    "               label=f'Diagnóstico {diagnosis}', alpha=0.6)\n",
    "\n",
    "plt.title('Relación entre Edad y Horas Sentado por Diagnóstico')\n",
    "plt.xlabel('Edad (normalizada)')\n",
    "plt.ylabel('Horas Sentado (normalizada)')\n",
    "plt.legend()\n",
    "plt.tight_layout()\n",
    "plt.show()"
   ]
  },
  {
   "cell_type": "markdown",
   "metadata": {},
   "source": [
    "### Matriz de Correlación\n",
    "Se crea un mapa de calor para visualizar las correlaciones entre las variables numéricas."
   ]
  },
  {
   "cell_type": "code",
   "execution_count": null,
   "id": "eda-third-plot",
   "metadata": {},
   "outputs": [],
   "source": [
    "plt.figure(figsize=(10, 8))\n",
    "numeric_cols = ['Season', 'Age', 'Childish_diseases', 'Accident_or_trauma',\n",
    "                'Surgical_intervention', 'High_fevers', 'Alcohol_consumption',\n",
    "                'Smoking_habit', 'Sitting_hours']\n",
    "corr_matrix = df[numeric_cols].corr()\n",
    "sns.heatmap(corr_matrix, annot=True, cmap='coolwarm', center=0)\n",
    "plt.title('Matriz de Correlación entre Variables')\n",
    "plt.tight_layout()\n",
    "plt.show()"
   ]
  },
  {
   "cell_type": "markdown",
   "metadata": {},
   "source": [
    "## Análisis Estadístico\n",
    "Se presentan estadísticas descriptivas y la distribución de los diagnósticos."
   ]
  },
  {
   "cell_type": "code",
   "execution_count": null,
   "id": "statistical-analysis",
   "metadata": {},
   "outputs": [],
   "source": [
    "print(\"Estadísticas Descriptivas:\")\n",
    "print(df.describe())\n",
    "\n",
    "print(\"\\nDistribución de Diagnósticos:\")\n",
    "print(df['Diagnosis'].value_counts(normalize=True) * 100)"
   ]
  },
  {
   "cell_type": "markdown",
   "metadata": {},
   "source": [
    "## Balance de Clases\n",
    "Es importante evaluar si existe un desbalance en las clases del objetivo para ajustar el modelo predictivo en caso necesario."
   ]
  },
  {
   "cell_type": "code",
   "execution_count": null,
   "id": "class-balance",
   "metadata": {},
   "outputs": [],
   "source": [
    "df['Diagnosis'].value_counts().plot(kind='bar', color=['skyblue', 'salmon'], alpha=0.7)\n",
    "plt.title('Distribución de Diagnósticos')\n",
    "plt.xlabel('Diagnóstico')\n",
    "plt.ylabel('Frecuencia')\n",
    "plt.tight_layout()\n",
    "plt.show()"
   ]
  },
  {
   "cell_type": "markdown",
   "metadata": {},
   "source": [
    "## Modelado Predictivo\n",
    "Se prepara el modelo de Random Forest para clasificar los datos en base a las características disponibles."
   ]
  },
  {
   "cell_type": "code",
   "execution_count": null,
   "id": "predictive-model",
   "metadata": {},
   "outputs": [],
   "source": [
    "# Preparar los datos\n",
    "X = df.drop(['Diagnosis', 'Season_Name'], axis=1)\n",
    "y = df['Diagnosis']\n",
    "\n",
    "# Dividir los datos\n",
    "X_train, X_test, y_train, y_test = train_test_split(X, y, test_size=0.2, random_state=42)\n",
    "\n",
    "# Entrenar el modelo\n",
    "rf = RandomForestClassifier(random_state=42)\n",
    "rf.fit(X_train, y_train)\n",
    "\n",
    "# Evaluar el modelo\n",
    "y_pred = rf.predict(X_test)\n",
    "\n",
    "print(\"\\nReporte de Clasificación:\")\n",
    "print(classification_report(y_test, y_pred))\n",
    "\n",
    "# Matriz de Confusión\n",
    "conf_matrix = confusion_matrix(y_test, y_pred)\n",
    "sns.heatmap(conf_matrix, annot=True, fmt='d', cmap='Blues', xticklabels=['Clase 0', 'Clase 1'], yticklabels=['Clase 0', 'Clase 1'])\n",
    "plt.title('Matriz de Confusión')\n",
    "plt.xlabel('Predicción')\n",
    "plt.ylabel('Realidad')\n",
    "plt.show()"
   ]
  },
  {
   "cell_type": "markdown",
   "metadata": {},
   "source": [
    "## Importancia de Características\n",
    "Identificamos las características más importantes que contribuyen al modelo de predicción."
   ]
  },
  {
   "cell_type": "code",
   "execution_count": null,
   "id": "feature-importance",
   "metadata": {},
   "outputs": [],
   "source": [
    "feature_importance = pd.DataFrame({\n",
    "    'feature': X.columns,\n",
    "    'importance': rf.feature_importances_\n",
    "}).sort_values('importance', ascending=False)\n",
    "\n",
    "sns.barplot(data=feature_importance, x='importance', y='feature', palette='viridis')\n",
    "plt.title('Importancia de Características')\n",
    "plt.xlabel('Importancia')\n",
    "plt.ylabel('Características')\n",
    "plt.tight_layout()\n",
    "plt.show()"
   ]
  }
