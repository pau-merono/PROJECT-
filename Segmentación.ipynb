# Importar librerías necesarias
import pandas as pd
import numpy as np
import matplotlib.pyplot as plt
import seaborn as sns
from sklearn.model_selection import train_test_split
from sklearn.preprocessing import StandardScaler
from sklearn.ensemble import RandomForestClassifier
from sklearn.metrics import classification_report, confusion_matrix
import warnings
warnings.filterwarnings('ignore')

# Configurar el estilo de las gráficas
plt.style.use('seaborn')
sns.set_palette("husl")

# 1. Preprocesamiento y limpieza de datos
# Cargar los datos
df = pd.read_csv('fertility_Diagnosis.csv', sep=';')

# Mapear las estaciones a valores más interpretables
season_map = {-1: 'Invierno', -0.33: 'Primavera', 0.33: 'Verano', 1: 'Otoño'}
df['Season_Name'] = df['Season'].map(season_map)

# 2. Análisis exploratorio de datos (EDA)

# Función para crear la primera gráfica: Distribución de diagnósticos por estación
def plot_diagnosis_by_season():
    plt.figure(figsize=(12, 6))
    diagnosis_by_season = pd.crosstab(df['Season_Name'], df['Diagnosis'], normalize='index') * 100
    diagnosis_by_season.plot(kind='bar', stacked=True)
    plt.title('Distribución de Diagnósticos por Estación')
    plt.xlabel('Estación')
    plt.ylabel('Porcentaje')
    plt.legend(title='Diagnóstico', bbox_to_anchor=(1.05, 1))
    plt.tight_layout()
    return plt.gcf()

# Función para crear la segunda gráfica: Relación entre edad y horas sentado por diagnóstico
def plot_age_sitting_relationship():
    plt.figure(figsize=(10, 6))
    for diagnosis in df['Diagnosis'].unique():
        mask = df['Diagnosis'] == diagnosis
        plt.scatter(df[mask]['Age'], df[mask]['Sitting_hours'], 
                   label=f'Diagnóstico {diagnosis}', alpha=0.6)
    
    plt.title('Relación entre Edad y Horas Sentado por Diagnóstico')
    plt.xlabel('Edad (normalizada)')
    plt.ylabel('Horas Sentado (normalizada)')
    plt.legend()
    plt.tight_layout()
    return plt.gcf()

# Función para crear la tercera gráfica: Heatmap de correlaciones
def plot_correlation_heatmap():
    plt.figure(figsize=(10, 8))
    numeric_cols = ['Season', 'Age', 'Childish_diseases', 'Accident_or_trauma',
                    'Surgical_intervention', 'High_fevers', 'Alcohol_consumption',
                    'Smoking_habit', 'Sitting_hours']
    corr_matrix = df[numeric_cols].corr()
    sns.heatmap(corr_matrix, annot=True, cmap='coolwarm', center=0)
    plt.title('Matriz de Correlación entre Variables')
    plt.tight_layout()
    return plt.gcf()

# 3. Análisis estadístico
def print_statistical_analysis():
    # Estadísticas descriptivas
    print("Estadísticas Descriptivas:")
    print(df.describe())
    
    # Distribución de diagnósticos
    print("\nDistribución de Diagnósticos:")
    print(df['Diagnosis'].value_counts(normalize=True) * 100)

# 4. Modelado predictivo
def train_and_evaluate_model():
    # Preparar los datos
    X = df.drop(['Diagnosis', 'Season_Name'], axis=1)
    y = df['Diagnosis']
    
    # Dividir los datos
    X_train, X_test, y_train, y_test = train_test_split(X, y, test_size=0.2, random_state=42)
    
    # Entrenar el modelo
    rf = RandomForestClassifier(random_state=42)
    rf.fit(X_train, y_train)
    
    # Evaluar el modelo
    y_pred = rf.predict(X_test)
    
    print("\nReporte de Clasificación:")
    print(classification_report(y_test, y_pred))
    
    # Importancia de características
    feature_importance = pd.DataFrame({
        'feature': X.columns,
        'importance': rf.feature_importances_
    }).sort_values('importance', ascending=False)
    
    print("\nImportancia de Variables:")
    print(feature_importance)

# 5. Ejecución del análisis completo
if __name__ == "__main__":
    # Realizar análisis estadístico
    print_statistical_analysis()
    
    # Entrenar y evaluar el modelo
    train_and_evaluate_model()
    
    # Generar gráficas
    fig1 = plot_diagnosis_by_season()
    fig2 = plot_age_sitting_relationship()
    fig3 = plot_correlation_heatmap()
    
    # Mostrar las gráficas
    plt.show()
